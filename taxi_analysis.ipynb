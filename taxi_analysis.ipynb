{
 "cells": [
  {
   "cell_type": "code",
   "execution_count": 45,
   "id": "5efbe1dc-8878-449b-8f72-8a36af0453dc",
   "metadata": {},
   "outputs": [],
   "source": [
    "import pandas as pd\n",
    "import numpy as np"
   ]
  },
  {
   "cell_type": "code",
   "execution_count": 46,
   "id": "0420410c-327b-4fdc-8330-4e5c9e264857",
   "metadata": {},
   "outputs": [
    {
     "name": "stderr",
     "output_type": "stream",
     "text": [
      "/var/folders/p3/5v5_pxbd3_787n9jly7_jq180000gn/T/ipykernel_1780/1023235160.py:1: DtypeWarning: Columns (6) have mixed types. Specify dtype option on import or set low_memory=False.\n",
      "  taxi_jan_2024 = pd.read_csv('data/yellow_tripdata_2024-01.csv')\n"
     ]
    }
   ],
   "source": [
    "taxi_jan_2024 = pd.read_csv('data/yellow_tripdata_2024-01.csv')\n",
    "taxi_data = pd.concat([taxi_jan_2024])"
   ]
  },
  {
   "cell_type": "code",
   "execution_count": 47,
   "id": "5ef2d541-a745-42ef-8d6f-a140656ee1df",
   "metadata": {},
   "outputs": [
    {
     "name": "stdout",
     "output_type": "stream",
     "text": [
      "(2964624, 19)\n"
     ]
    },
    {
     "data": {
      "text/plain": [
       "<bound method NDFrame.head of          VendorID tpep_pickup_datetime tpep_dropoff_datetime  passenger_count  \\\n",
       "0               2  2024-01-01 00:57:55   2024-01-01 01:17:43              1.0   \n",
       "1               1  2024-01-01 00:03:00   2024-01-01 00:09:36              1.0   \n",
       "2               1  2024-01-01 00:17:06   2024-01-01 00:35:01              1.0   \n",
       "3               1  2024-01-01 00:36:38   2024-01-01 00:44:56              1.0   \n",
       "4               1  2024-01-01 00:46:51   2024-01-01 00:52:57              1.0   \n",
       "...           ...                  ...                   ...              ...   \n",
       "2964619         2  2024-01-31 23:45:59   2024-01-31 23:54:36              NaN   \n",
       "2964620         1  2024-01-31 23:13:07   2024-01-31 23:27:52              NaN   \n",
       "2964621         2  2024-01-31 23:19:00   2024-01-31 23:38:00              NaN   \n",
       "2964622         2  2024-01-31 23:07:23   2024-01-31 23:25:14              NaN   \n",
       "2964623         1  2024-01-31 23:58:25   2024-02-01 00:13:30              NaN   \n",
       "\n",
       "         trip_distance  RatecodeID store_and_fwd_flag  PULocationID  \\\n",
       "0                 1.72         1.0                  N           186   \n",
       "1                 1.80         1.0                  N           140   \n",
       "2                 4.70         1.0                  N           236   \n",
       "3                 1.40         1.0                  N            79   \n",
       "4                 0.80         1.0                  N           211   \n",
       "...                ...         ...                ...           ...   \n",
       "2964619           3.18         NaN                NaN           107   \n",
       "2964620           4.00         NaN                NaN           114   \n",
       "2964621           3.33         NaN                NaN           211   \n",
       "2964622           3.06         NaN                NaN           107   \n",
       "2964623           8.10         NaN                NaN           138   \n",
       "\n",
       "         DOLocationID  payment_type  fare_amount  extra  mta_tax  tip_amount  \\\n",
       "0                  79             2        17.70   1.00      0.5        0.00   \n",
       "1                 236             1        10.00   3.50      0.5        3.75   \n",
       "2                  79             1        23.30   3.50      0.5        3.00   \n",
       "3                 211             1        10.00   3.50      0.5        2.00   \n",
       "4                 148             1         7.90   3.50      0.5        3.20   \n",
       "...               ...           ...          ...    ...      ...         ...   \n",
       "2964619           263             0        15.77   0.00      0.5        2.00   \n",
       "2964620           236             0        18.40   1.00      0.5        2.34   \n",
       "2964621            25             0        19.97   0.00      0.5        0.00   \n",
       "2964622            13             0        23.88   0.00      0.5        5.58   \n",
       "2964623            75             0        32.40   7.75      0.5        7.29   \n",
       "\n",
       "         tolls_amount  improvement_surcharge  total_amount  \\\n",
       "0                0.00                    1.0         22.70   \n",
       "1                0.00                    1.0         18.75   \n",
       "2                0.00                    1.0         31.30   \n",
       "3                0.00                    1.0         17.00   \n",
       "4                0.00                    1.0         16.10   \n",
       "...               ...                    ...           ...   \n",
       "2964619          0.00                    1.0         21.77   \n",
       "2964620          0.00                    1.0         25.74   \n",
       "2964621          0.00                    1.0         23.97   \n",
       "2964622          0.00                    1.0         33.46   \n",
       "2964623          6.94                    1.0         55.88   \n",
       "\n",
       "         congestion_surcharge  Airport_fee  \n",
       "0                         2.5          0.0  \n",
       "1                         2.5          0.0  \n",
       "2                         2.5          0.0  \n",
       "3                         2.5          0.0  \n",
       "4                         2.5          0.0  \n",
       "...                       ...          ...  \n",
       "2964619                   NaN          NaN  \n",
       "2964620                   NaN          NaN  \n",
       "2964621                   NaN          NaN  \n",
       "2964622                   NaN          NaN  \n",
       "2964623                   NaN          NaN  \n",
       "\n",
       "[2964624 rows x 19 columns]>"
      ]
     },
     "execution_count": 47,
     "metadata": {},
     "output_type": "execute_result"
    }
   ],
   "source": [
    "print(taxi_data.shape)\n",
    "taxi_data.head"
   ]
  },
  {
   "cell_type": "code",
   "execution_count": 48,
   "id": "cd634a4b",
   "metadata": {},
   "outputs": [
    {
     "data": {
      "text/plain": [
       "Index(['VendorID', 'tpep_pickup_datetime', 'tpep_dropoff_datetime',\n",
       "       'passenger_count', 'trip_distance', 'RatecodeID', 'store_and_fwd_flag',\n",
       "       'PULocationID', 'DOLocationID', 'payment_type', 'fare_amount', 'extra',\n",
       "       'mta_tax', 'tip_amount', 'tolls_amount', 'improvement_surcharge',\n",
       "       'total_amount', 'congestion_surcharge', 'Airport_fee'],\n",
       "      dtype='object')"
      ]
     },
     "execution_count": 48,
     "metadata": {},
     "output_type": "execute_result"
    }
   ],
   "source": [
    "taxi_data.columns"
   ]
  },
  {
   "cell_type": "code",
   "execution_count": 49,
   "id": "5de4ed6b",
   "metadata": {},
   "outputs": [],
   "source": [
    "taxi_data = taxi_data[['tpep_pickup_datetime', 'tpep_dropoff_datetime',\n",
    "       'passenger_count', 'trip_distance', 'RatecodeID', \n",
    "       'PULocationID', 'DOLocationID', 'payment_type',\n",
    "       'total_amount']]"
   ]
  },
  {
   "cell_type": "code",
   "execution_count": 50,
   "id": "3a113d70",
   "metadata": {},
   "outputs": [
    {
     "data": {
      "text/plain": [
       "<bound method NDFrame.head of         tpep_pickup_datetime tpep_dropoff_datetime  passenger_count  \\\n",
       "0        2024-01-01 00:57:55   2024-01-01 01:17:43              1.0   \n",
       "1        2024-01-01 00:03:00   2024-01-01 00:09:36              1.0   \n",
       "2        2024-01-01 00:17:06   2024-01-01 00:35:01              1.0   \n",
       "3        2024-01-01 00:36:38   2024-01-01 00:44:56              1.0   \n",
       "4        2024-01-01 00:46:51   2024-01-01 00:52:57              1.0   \n",
       "...                      ...                   ...              ...   \n",
       "2964619  2024-01-31 23:45:59   2024-01-31 23:54:36              NaN   \n",
       "2964620  2024-01-31 23:13:07   2024-01-31 23:27:52              NaN   \n",
       "2964621  2024-01-31 23:19:00   2024-01-31 23:38:00              NaN   \n",
       "2964622  2024-01-31 23:07:23   2024-01-31 23:25:14              NaN   \n",
       "2964623  2024-01-31 23:58:25   2024-02-01 00:13:30              NaN   \n",
       "\n",
       "         trip_distance  RatecodeID  PULocationID  DOLocationID  payment_type  \\\n",
       "0                 1.72         1.0           186            79             2   \n",
       "1                 1.80         1.0           140           236             1   \n",
       "2                 4.70         1.0           236            79             1   \n",
       "3                 1.40         1.0            79           211             1   \n",
       "4                 0.80         1.0           211           148             1   \n",
       "...                ...         ...           ...           ...           ...   \n",
       "2964619           3.18         NaN           107           263             0   \n",
       "2964620           4.00         NaN           114           236             0   \n",
       "2964621           3.33         NaN           211            25             0   \n",
       "2964622           3.06         NaN           107            13             0   \n",
       "2964623           8.10         NaN           138            75             0   \n",
       "\n",
       "         total_amount  \n",
       "0               22.70  \n",
       "1               18.75  \n",
       "2               31.30  \n",
       "3               17.00  \n",
       "4               16.10  \n",
       "...               ...  \n",
       "2964619         21.77  \n",
       "2964620         25.74  \n",
       "2964621         23.97  \n",
       "2964622         33.46  \n",
       "2964623         55.88  \n",
       "\n",
       "[2964624 rows x 9 columns]>"
      ]
     },
     "execution_count": 50,
     "metadata": {},
     "output_type": "execute_result"
    }
   ],
   "source": [
    "taxi_data.head"
   ]
  },
  {
   "cell_type": "code",
   "execution_count": 51,
   "id": "4f3dd220",
   "metadata": {},
   "outputs": [
    {
     "data": {
      "text/plain": [
       "RatecodeID\n",
       "1.0     2663350\n",
       "2.0       98713\n",
       "99.0      28663\n",
       "5.0       19410\n",
       "3.0        7954\n",
       "4.0        6365\n",
       "6.0           7\n",
       "Name: count, dtype: int64"
      ]
     },
     "execution_count": 51,
     "metadata": {},
     "output_type": "execute_result"
    }
   ],
   "source": [
    "taxi_data['RatecodeID'].value_counts()"
   ]
  },
  {
   "cell_type": "code",
   "execution_count": 52,
   "id": "31a81690",
   "metadata": {},
   "outputs": [
    {
     "name": "stderr",
     "output_type": "stream",
     "text": [
      "/var/folders/p3/5v5_pxbd3_787n9jly7_jq180000gn/T/ipykernel_1780/4196241516.py:1: SettingWithCopyWarning: \n",
      "A value is trying to be set on a copy of a slice from a DataFrame.\n",
      "Try using .loc[row_indexer,col_indexer] = value instead\n",
      "\n",
      "See the caveats in the documentation: https://pandas.pydata.org/pandas-docs/stable/user_guide/indexing.html#returning-a-view-versus-a-copy\n",
      "  taxi_data['passenger_count'] = taxi_data['passenger_count'].fillna(0)\n",
      "/var/folders/p3/5v5_pxbd3_787n9jly7_jq180000gn/T/ipykernel_1780/4196241516.py:2: SettingWithCopyWarning: \n",
      "A value is trying to be set on a copy of a slice from a DataFrame.\n",
      "Try using .loc[row_indexer,col_indexer] = value instead\n",
      "\n",
      "See the caveats in the documentation: https://pandas.pydata.org/pandas-docs/stable/user_guide/indexing.html#returning-a-view-versus-a-copy\n",
      "  taxi_data['passenger_count'] = taxi_data['passenger_count'].astype(int)\n"
     ]
    }
   ],
   "source": [
    "taxi_data['passenger_count'] = taxi_data['passenger_count'].fillna(0)\n",
    "taxi_data['passenger_count'] = taxi_data['passenger_count'].astype(int)"
   ]
  },
  {
   "cell_type": "code",
   "execution_count": 53,
   "id": "ce1f423a",
   "metadata": {},
   "outputs": [
    {
     "data": {
      "text/plain": [
       "<Axes: xlabel='index', ylabel='total_amount'>"
      ]
     },
     "execution_count": 53,
     "metadata": {},
     "output_type": "execute_result"
    },
    {
     "data": {
      "image/png": "[encoded data removed]",
      "text/plain": [
       "<Figure size 1000x500 with 1 Axes>"
      ]
     },
     "metadata": {},
     "output_type": "display_data"
    }
   ],
   "source": [
    "taxi_data.reset_index().plot(kind='scatter', y='total_amount', x='index', figsize=(10,5))"
   ]
  },
  {
   "cell_type": "code",
   "execution_count": 54,
   "id": "0d459a6c",
   "metadata": {},
   "outputs": [
    {
     "name": "stdout",
     "output_type": "stream",
     "text": [
      "(35504, 9)\n"
     ]
    }
   ],
   "source": [
    "print(taxi_data[taxi_data['total_amount']<0].shape)"
   ]
  },
  {
   "cell_type": "code",
   "execution_count": 55,
   "id": "d570776f",
   "metadata": {},
   "outputs": [
    {
     "data": {
      "text/html": [
       "<div>\n",
       "<style scoped>\n",
       "    .dataframe tbody tr th:only-of-type {\n",
       "        vertical-align: middle;\n",
       "    }\n",
       "\n",
       "    .dataframe tbody tr th {\n",
       "        vertical-align: top;\n",
       "    }\n",
       "\n",
       "    .dataframe thead th {\n",
       "        text-align: right;\n",
       "    }\n",
       "</style>\n",
       "<table border=\"1\" class=\"dataframe\">\n",
       "  <thead>\n",
       "    <tr style=\"text-align: right;\">\n",
       "      <th></th>\n",
       "      <th>tpep_pickup_datetime</th>\n",
       "      <th>tpep_dropoff_datetime</th>\n",
       "      <th>passenger_count</th>\n",
       "      <th>trip_distance</th>\n",
       "      <th>RatecodeID</th>\n",
       "      <th>PULocationID</th>\n",
       "      <th>DOLocationID</th>\n",
       "      <th>payment_type</th>\n",
       "      <th>total_amount</th>\n",
       "    </tr>\n",
       "  </thead>\n",
       "  <tbody>\n",
       "    <tr>\n",
       "      <th>99</th>\n",
       "      <td>2024-01-01 00:18:24</td>\n",
       "      <td>2024-01-01 00:30:39</td>\n",
       "      <td>1</td>\n",
       "      <td>2.16</td>\n",
       "      <td>1.0</td>\n",
       "      <td>249</td>\n",
       "      <td>232</td>\n",
       "      <td>4</td>\n",
       "      <td>-18.50</td>\n",
       "    </tr>\n",
       "    <tr>\n",
       "      <th>506</th>\n",
       "      <td>2024-01-01 00:04:00</td>\n",
       "      <td>2024-01-01 00:04:44</td>\n",
       "      <td>1</td>\n",
       "      <td>0.01</td>\n",
       "      <td>5.0</td>\n",
       "      <td>63</td>\n",
       "      <td>63</td>\n",
       "      <td>2</td>\n",
       "      <td>-34.25</td>\n",
       "    </tr>\n",
       "    <tr>\n",
       "      <th>536</th>\n",
       "      <td>2024-01-01 00:41:42</td>\n",
       "      <td>2024-01-01 00:46:00</td>\n",
       "      <td>1</td>\n",
       "      <td>0.47</td>\n",
       "      <td>1.0</td>\n",
       "      <td>249</td>\n",
       "      <td>113</td>\n",
       "      <td>4</td>\n",
       "      <td>-10.80</td>\n",
       "    </tr>\n",
       "    <tr>\n",
       "      <th>552</th>\n",
       "      <td>2024-01-01 00:42:02</td>\n",
       "      <td>2024-01-01 01:14:33</td>\n",
       "      <td>1</td>\n",
       "      <td>5.48</td>\n",
       "      <td>1.0</td>\n",
       "      <td>107</td>\n",
       "      <td>61</td>\n",
       "      <td>2</td>\n",
       "      <td>-38.10</td>\n",
       "    </tr>\n",
       "    <tr>\n",
       "      <th>682</th>\n",
       "      <td>2024-01-01 00:24:02</td>\n",
       "      <td>2024-01-01 01:10:32</td>\n",
       "      <td>1</td>\n",
       "      <td>8.74</td>\n",
       "      <td>1.0</td>\n",
       "      <td>90</td>\n",
       "      <td>225</td>\n",
       "      <td>4</td>\n",
       "      <td>-52.80</td>\n",
       "    </tr>\n",
       "  </tbody>\n",
       "</table>\n",
       "</div>"
      ],
      "text/plain": [
       "    tpep_pickup_datetime tpep_dropoff_datetime  passenger_count  \\\n",
       "99   2024-01-01 00:18:24   2024-01-01 00:30:39                1   \n",
       "506  2024-01-01 00:04:00   2024-01-01 00:04:44                1   \n",
       "536  2024-01-01 00:41:42   2024-01-01 00:46:00                1   \n",
       "552  2024-01-01 00:42:02   2024-01-01 01:14:33                1   \n",
       "682  2024-01-01 00:24:02   2024-01-01 01:10:32                1   \n",
       "\n",
       "     trip_distance  RatecodeID  PULocationID  DOLocationID  payment_type  \\\n",
       "99            2.16         1.0           249           232             4   \n",
       "506           0.01         5.0            63            63             2   \n",
       "536           0.47         1.0           249           113             4   \n",
       "552           5.48         1.0           107            61             2   \n",
       "682           8.74         1.0            90           225             4   \n",
       "\n",
       "     total_amount  \n",
       "99         -18.50  \n",
       "506        -34.25  \n",
       "536        -10.80  \n",
       "552        -38.10  \n",
       "682        -52.80  "
      ]
     },
     "execution_count": 55,
     "metadata": {},
     "output_type": "execute_result"
    }
   ],
   "source": [
    "taxi_data[taxi_data['total_amount']<0].head()"
   ]
  },
  {
   "cell_type": "code",
   "execution_count": 56,
   "id": "91ace950",
   "metadata": {},
   "outputs": [
    {
     "data": {
      "text/plain": [
       "payment_type\n",
       "4    21406\n",
       "2     8326\n",
       "3     5741\n",
       "1       29\n",
       "0        2\n",
       "Name: count, dtype: int64"
      ]
     },
     "execution_count": 56,
     "metadata": {},
     "output_type": "execute_result"
    }
   ],
   "source": [
    "taxi_data[taxi_data['total_amount']<0]['payment_type'].value_counts()"
   ]
  },
  {
   "cell_type": "code",
   "execution_count": 57,
   "id": "168dcdfc",
   "metadata": {},
   "outputs": [],
   "source": [
    "taxi_data = taxi_data[taxi_data['payment_type'] != 0]"
   ]
  },
  {
   "cell_type": "code",
   "execution_count": 58,
   "id": "3a400855",
   "metadata": {},
   "outputs": [
    {
     "data": {
      "text/plain": [
       "payment_type\n",
       "1    2319046\n",
       "2     439191\n",
       "4      46628\n",
       "3      19597\n",
       "Name: count, dtype: int64"
      ]
     },
     "execution_count": 58,
     "metadata": {},
     "output_type": "execute_result"
    }
   ],
   "source": [
    "taxi_data['payment_type'].value_counts()"
   ]
  },
  {
   "cell_type": "code",
   "execution_count": 59,
   "id": "847f736b",
   "metadata": {},
   "outputs": [
    {
     "name": "stdout",
     "output_type": "stream",
     "text": [
      "(405, 9)\n"
     ]
    },
    {
     "data": {
      "text/html": [
       "<div>\n",
       "<style scoped>\n",
       "    .dataframe tbody tr th:only-of-type {\n",
       "        vertical-align: middle;\n",
       "    }\n",
       "\n",
       "    .dataframe tbody tr th {\n",
       "        vertical-align: top;\n",
       "    }\n",
       "\n",
       "    .dataframe thead th {\n",
       "        text-align: right;\n",
       "    }\n",
       "</style>\n",
       "<table border=\"1\" class=\"dataframe\">\n",
       "  <thead>\n",
       "    <tr style=\"text-align: right;\">\n",
       "      <th></th>\n",
       "      <th>tpep_pickup_datetime</th>\n",
       "      <th>tpep_dropoff_datetime</th>\n",
       "      <th>passenger_count</th>\n",
       "      <th>trip_distance</th>\n",
       "      <th>RatecodeID</th>\n",
       "      <th>PULocationID</th>\n",
       "      <th>DOLocationID</th>\n",
       "      <th>payment_type</th>\n",
       "      <th>total_amount</th>\n",
       "    </tr>\n",
       "  </thead>\n",
       "  <tbody>\n",
       "    <tr>\n",
       "      <th>854</th>\n",
       "      <td>2024-01-01 00:27:42</td>\n",
       "      <td>2024-01-01 00:28:49</td>\n",
       "      <td>1</td>\n",
       "      <td>0.2</td>\n",
       "      <td>1.0</td>\n",
       "      <td>239</td>\n",
       "      <td>143</td>\n",
       "      <td>4</td>\n",
       "      <td>0.0</td>\n",
       "    </tr>\n",
       "    <tr>\n",
       "      <th>29224</th>\n",
       "      <td>2024-01-01 10:01:27</td>\n",
       "      <td>2024-01-01 10:01:27</td>\n",
       "      <td>1</td>\n",
       "      <td>0.0</td>\n",
       "      <td>5.0</td>\n",
       "      <td>239</td>\n",
       "      <td>264</td>\n",
       "      <td>2</td>\n",
       "      <td>0.0</td>\n",
       "    </tr>\n",
       "    <tr>\n",
       "      <th>39191</th>\n",
       "      <td>2024-01-01 13:46:41</td>\n",
       "      <td>2024-01-01 14:12:06</td>\n",
       "      <td>1</td>\n",
       "      <td>0.0</td>\n",
       "      <td>99.0</td>\n",
       "      <td>42</td>\n",
       "      <td>216</td>\n",
       "      <td>1</td>\n",
       "      <td>0.0</td>\n",
       "    </tr>\n",
       "    <tr>\n",
       "      <th>39591</th>\n",
       "      <td>2024-01-01 13:03:22</td>\n",
       "      <td>2024-01-01 13:03:24</td>\n",
       "      <td>1</td>\n",
       "      <td>0.0</td>\n",
       "      <td>1.0</td>\n",
       "      <td>264</td>\n",
       "      <td>264</td>\n",
       "      <td>2</td>\n",
       "      <td>0.0</td>\n",
       "    </tr>\n",
       "    <tr>\n",
       "      <th>39592</th>\n",
       "      <td>2024-01-01 13:05:28</td>\n",
       "      <td>2024-01-01 13:05:35</td>\n",
       "      <td>1</td>\n",
       "      <td>0.0</td>\n",
       "      <td>1.0</td>\n",
       "      <td>193</td>\n",
       "      <td>193</td>\n",
       "      <td>2</td>\n",
       "      <td>0.0</td>\n",
       "    </tr>\n",
       "  </tbody>\n",
       "</table>\n",
       "</div>"
      ],
      "text/plain": [
       "      tpep_pickup_datetime tpep_dropoff_datetime  passenger_count  \\\n",
       "854    2024-01-01 00:27:42   2024-01-01 00:28:49                1   \n",
       "29224  2024-01-01 10:01:27   2024-01-01 10:01:27                1   \n",
       "39191  2024-01-01 13:46:41   2024-01-01 14:12:06                1   \n",
       "39591  2024-01-01 13:03:22   2024-01-01 13:03:24                1   \n",
       "39592  2024-01-01 13:05:28   2024-01-01 13:05:35                1   \n",
       "\n",
       "       trip_distance  RatecodeID  PULocationID  DOLocationID  payment_type  \\\n",
       "854              0.2         1.0           239           143             4   \n",
       "29224            0.0         5.0           239           264             2   \n",
       "39191            0.0        99.0            42           216             1   \n",
       "39591            0.0         1.0           264           264             2   \n",
       "39592            0.0         1.0           193           193             2   \n",
       "\n",
       "       total_amount  \n",
       "854             0.0  \n",
       "29224           0.0  \n",
       "39191           0.0  \n",
       "39591           0.0  \n",
       "39592           0.0  "
      ]
     },
     "execution_count": 59,
     "metadata": {},
     "output_type": "execute_result"
    }
   ],
   "source": [
    "print(taxi_data[taxi_data['total_amount']==0].shape)\n",
    "taxi_data[taxi_data['total_amount']==0].head()"
   ]
  },
  {
   "cell_type": "code",
   "execution_count": 60,
   "id": "5dd3324a",
   "metadata": {},
   "outputs": [
    {
     "data": {
      "text/plain": [
       "payment_type\n",
       "1    129\n",
       "4    128\n",
       "3     83\n",
       "2     65\n",
       "Name: count, dtype: int64"
      ]
     },
     "execution_count": 60,
     "metadata": {},
     "output_type": "execute_result"
    }
   ],
   "source": [
    "taxi_data[taxi_data['total_amount']==0]['payment_type'].value_counts()"
   ]
  },
  {
   "cell_type": "code",
   "execution_count": 61,
   "id": "68c09b8a",
   "metadata": {},
   "outputs": [
    {
     "data": {
      "text/plain": [
       "trip_distance\n",
       "0.00     282\n",
       "0.10      20\n",
       "0.90       8\n",
       "0.20       7\n",
       "0.50       7\n",
       "1.60       6\n",
       "1.00       5\n",
       "0.80       5\n",
       "0.70       5\n",
       "0.60       4\n",
       "0.30       4\n",
       "1.30       4\n",
       "3.00       3\n",
       "1.10       3\n",
       "0.40       3\n",
       "1.80       2\n",
       "2.50       2\n",
       "10.70      2\n",
       "1.70       2\n",
       "2.40       2\n",
       "3.40       2\n",
       "3.30       1\n",
       "3.80       1\n",
       "15.00      1\n",
       "5.30       1\n",
       "18.40      1\n",
       "12.10      1\n",
       "2.90       1\n",
       "1.74       1\n",
       "12.80      1\n",
       "1.40       1\n",
       "25.10      1\n",
       "4.20       1\n",
       "2.70       1\n",
       "3.50       1\n",
       "4.00       1\n",
       "21.90      1\n",
       "16.50      1\n",
       "26.20      1\n",
       "13.60      1\n",
       "7.70       1\n",
       "3.60       1\n",
       "5.50       1\n",
       "5.80       1\n",
       "4.90       1\n",
       "8.10       1\n",
       "1.20       1\n",
       "17.10      1\n",
       "Name: count, dtype: int64"
      ]
     },
     "execution_count": 61,
     "metadata": {},
     "output_type": "execute_result"
    }
   ],
   "source": [
    "taxi_data[taxi_data['total_amount']==0]['trip_distance'].value_counts()"
   ]
  },
  {
   "cell_type": "code",
   "execution_count": 62,
   "id": "03b1ebb1",
   "metadata": {},
   "outputs": [
    {
     "data": {
      "text/plain": [
       "np.float64(26.850621339568377)"
      ]
     },
     "execution_count": 62,
     "metadata": {},
     "output_type": "execute_result"
    }
   ],
   "source": [
    "taxi_data['total_amount'].mean()"
   ]
  },
  {
   "cell_type": "code",
   "execution_count": 63,
   "id": "ea9791a5",
   "metadata": {},
   "outputs": [
    {
     "name": "stderr",
     "output_type": "stream",
     "text": [
      "/var/folders/p3/5v5_pxbd3_787n9jly7_jq180000gn/T/ipykernel_1780/2763619415.py:1: SettingWithCopyWarning: \n",
      "A value is trying to be set on a copy of a slice from a DataFrame.\n",
      "Try using .loc[row_indexer,col_indexer] = value instead\n",
      "\n",
      "See the caveats in the documentation: https://pandas.pydata.org/pandas-docs/stable/user_guide/indexing.html#returning-a-view-versus-a-copy\n",
      "  taxi_data['RatecodeID'] = taxi_data['RatecodeID'].astype(int)\n"
     ]
    }
   ],
   "source": [
    "taxi_data['RatecodeID'] = taxi_data['RatecodeID'].astype(int)"
   ]
  },
  {
   "cell_type": "code",
   "execution_count": 64,
   "id": "2c63381b",
   "metadata": {},
   "outputs": [
    {
     "data": {
      "text/html": [
       "<div>\n",
       "<style scoped>\n",
       "    .dataframe tbody tr th:only-of-type {\n",
       "        vertical-align: middle;\n",
       "    }\n",
       "\n",
       "    .dataframe tbody tr th {\n",
       "        vertical-align: top;\n",
       "    }\n",
       "\n",
       "    .dataframe thead th {\n",
       "        text-align: right;\n",
       "    }\n",
       "</style>\n",
       "<table border=\"1\" class=\"dataframe\">\n",
       "  <thead>\n",
       "    <tr style=\"text-align: right;\">\n",
       "      <th></th>\n",
       "      <th>tpep_pickup_datetime</th>\n",
       "      <th>tpep_dropoff_datetime</th>\n",
       "      <th>passenger_count</th>\n",
       "      <th>trip_distance</th>\n",
       "      <th>RatecodeID</th>\n",
       "      <th>PULocationID</th>\n",
       "      <th>DOLocationID</th>\n",
       "      <th>payment_type</th>\n",
       "      <th>total_amount</th>\n",
       "    </tr>\n",
       "  </thead>\n",
       "  <tbody>\n",
       "    <tr>\n",
       "      <th>0</th>\n",
       "      <td>2024-01-01 00:57:55</td>\n",
       "      <td>2024-01-01 01:17:43</td>\n",
       "      <td>1</td>\n",
       "      <td>1.72</td>\n",
       "      <td>1</td>\n",
       "      <td>186</td>\n",
       "      <td>79</td>\n",
       "      <td>2</td>\n",
       "      <td>22.70</td>\n",
       "    </tr>\n",
       "    <tr>\n",
       "      <th>1</th>\n",
       "      <td>2024-01-01 00:03:00</td>\n",
       "      <td>2024-01-01 00:09:36</td>\n",
       "      <td>1</td>\n",
       "      <td>1.80</td>\n",
       "      <td>1</td>\n",
       "      <td>140</td>\n",
       "      <td>236</td>\n",
       "      <td>1</td>\n",
       "      <td>18.75</td>\n",
       "    </tr>\n",
       "    <tr>\n",
       "      <th>2</th>\n",
       "      <td>2024-01-01 00:17:06</td>\n",
       "      <td>2024-01-01 00:35:01</td>\n",
       "      <td>1</td>\n",
       "      <td>4.70</td>\n",
       "      <td>1</td>\n",
       "      <td>236</td>\n",
       "      <td>79</td>\n",
       "      <td>1</td>\n",
       "      <td>31.30</td>\n",
       "    </tr>\n",
       "    <tr>\n",
       "      <th>3</th>\n",
       "      <td>2024-01-01 00:36:38</td>\n",
       "      <td>2024-01-01 00:44:56</td>\n",
       "      <td>1</td>\n",
       "      <td>1.40</td>\n",
       "      <td>1</td>\n",
       "      <td>79</td>\n",
       "      <td>211</td>\n",
       "      <td>1</td>\n",
       "      <td>17.00</td>\n",
       "    </tr>\n",
       "    <tr>\n",
       "      <th>4</th>\n",
       "      <td>2024-01-01 00:46:51</td>\n",
       "      <td>2024-01-01 00:52:57</td>\n",
       "      <td>1</td>\n",
       "      <td>0.80</td>\n",
       "      <td>1</td>\n",
       "      <td>211</td>\n",
       "      <td>148</td>\n",
       "      <td>1</td>\n",
       "      <td>16.10</td>\n",
       "    </tr>\n",
       "    <tr>\n",
       "      <th>...</th>\n",
       "      <td>...</td>\n",
       "      <td>...</td>\n",
       "      <td>...</td>\n",
       "      <td>...</td>\n",
       "      <td>...</td>\n",
       "      <td>...</td>\n",
       "      <td>...</td>\n",
       "      <td>...</td>\n",
       "      <td>...</td>\n",
       "    </tr>\n",
       "    <tr>\n",
       "      <th>2824457</th>\n",
       "      <td>2024-01-31 23:10:28</td>\n",
       "      <td>2024-01-31 23:18:30</td>\n",
       "      <td>1</td>\n",
       "      <td>3.51</td>\n",
       "      <td>1</td>\n",
       "      <td>138</td>\n",
       "      <td>129</td>\n",
       "      <td>1</td>\n",
       "      <td>30.31</td>\n",
       "    </tr>\n",
       "    <tr>\n",
       "      <th>2824458</th>\n",
       "      <td>2024-01-31 23:01:04</td>\n",
       "      <td>2024-01-31 23:17:35</td>\n",
       "      <td>1</td>\n",
       "      <td>3.36</td>\n",
       "      <td>1</td>\n",
       "      <td>162</td>\n",
       "      <td>261</td>\n",
       "      <td>1</td>\n",
       "      <td>29.25</td>\n",
       "    </tr>\n",
       "    <tr>\n",
       "      <th>2824459</th>\n",
       "      <td>2024-01-31 23:08:13</td>\n",
       "      <td>2024-01-31 23:25:00</td>\n",
       "      <td>3</td>\n",
       "      <td>3.30</td>\n",
       "      <td>1</td>\n",
       "      <td>43</td>\n",
       "      <td>249</td>\n",
       "      <td>1</td>\n",
       "      <td>23.70</td>\n",
       "    </tr>\n",
       "    <tr>\n",
       "      <th>2824460</th>\n",
       "      <td>2024-01-31 23:49:46</td>\n",
       "      <td>2024-01-31 23:53:10</td>\n",
       "      <td>0</td>\n",
       "      <td>0.40</td>\n",
       "      <td>1</td>\n",
       "      <td>142</td>\n",
       "      <td>163</td>\n",
       "      <td>2</td>\n",
       "      <td>10.10</td>\n",
       "    </tr>\n",
       "    <tr>\n",
       "      <th>2824461</th>\n",
       "      <td>2024-01-31 23:03:26</td>\n",
       "      <td>2024-01-31 23:09:12</td>\n",
       "      <td>1</td>\n",
       "      <td>1.58</td>\n",
       "      <td>1</td>\n",
       "      <td>140</td>\n",
       "      <td>263</td>\n",
       "      <td>1</td>\n",
       "      <td>16.32</td>\n",
       "    </tr>\n",
       "  </tbody>\n",
       "</table>\n",
       "<p>2786954 rows × 9 columns</p>\n",
       "</div>"
      ],
      "text/plain": [
       "        tpep_pickup_datetime tpep_dropoff_datetime  passenger_count  \\\n",
       "0        2024-01-01 00:57:55   2024-01-01 01:17:43                1   \n",
       "1        2024-01-01 00:03:00   2024-01-01 00:09:36                1   \n",
       "2        2024-01-01 00:17:06   2024-01-01 00:35:01                1   \n",
       "3        2024-01-01 00:36:38   2024-01-01 00:44:56                1   \n",
       "4        2024-01-01 00:46:51   2024-01-01 00:52:57                1   \n",
       "...                      ...                   ...              ...   \n",
       "2824457  2024-01-31 23:10:28   2024-01-31 23:18:30                1   \n",
       "2824458  2024-01-31 23:01:04   2024-01-31 23:17:35                1   \n",
       "2824459  2024-01-31 23:08:13   2024-01-31 23:25:00                3   \n",
       "2824460  2024-01-31 23:49:46   2024-01-31 23:53:10                0   \n",
       "2824461  2024-01-31 23:03:26   2024-01-31 23:09:12                1   \n",
       "\n",
       "         trip_distance  RatecodeID  PULocationID  DOLocationID  payment_type  \\\n",
       "0                 1.72           1           186            79             2   \n",
       "1                 1.80           1           140           236             1   \n",
       "2                 4.70           1           236            79             1   \n",
       "3                 1.40           1            79           211             1   \n",
       "4                 0.80           1           211           148             1   \n",
       "...                ...         ...           ...           ...           ...   \n",
       "2824457           3.51           1           138           129             1   \n",
       "2824458           3.36           1           162           261             1   \n",
       "2824459           3.30           1            43           249             1   \n",
       "2824460           0.40           1           142           163             2   \n",
       "2824461           1.58           1           140           263             1   \n",
       "\n",
       "         total_amount  \n",
       "0               22.70  \n",
       "1               18.75  \n",
       "2               31.30  \n",
       "3               17.00  \n",
       "4               16.10  \n",
       "...               ...  \n",
       "2824457         30.31  \n",
       "2824458         29.25  \n",
       "2824459         23.70  \n",
       "2824460         10.10  \n",
       "2824461         16.32  \n",
       "\n",
       "[2786954 rows x 9 columns]"
      ]
     },
     "execution_count": 64,
     "metadata": {},
     "output_type": "execute_result"
    }
   ],
   "source": [
    "taxi_data_filtered = taxi_data[(taxi_data['total_amount']>=0)&(taxi_data['total_amount']<200)]\n",
    "taxi_data_filtered"
   ]
  },
  {
   "cell_type": "code",
   "execution_count": 65,
   "id": "b791f104",
   "metadata": {},
   "outputs": [
    {
     "data": {
      "text/plain": [
       "tpep_pickup_datetime     0\n",
       "tpep_dropoff_datetime    0\n",
       "passenger_count          0\n",
       "trip_distance            0\n",
       "RatecodeID               0\n",
       "PULocationID             0\n",
       "DOLocationID             0\n",
       "payment_type             0\n",
       "total_amount             0\n",
       "dtype: int64"
      ]
     },
     "execution_count": 65,
     "metadata": {},
     "output_type": "execute_result"
    }
   ],
   "source": [
    "taxi_data_filtered.isna().sum()"
   ]
  },
  {
   "cell_type": "code",
   "execution_count": 66,
   "id": "d7edfd81",
   "metadata": {},
   "outputs": [],
   "source": [
    "taxi_data_prepared = taxi_data_filtered.copy()"
   ]
  },
  {
   "cell_type": "code",
   "execution_count": 67,
   "id": "8383aafc",
   "metadata": {},
   "outputs": [
    {
     "data": {
      "text/plain": [
       "tpep_pickup_datetime      object\n",
       "tpep_dropoff_datetime     object\n",
       "passenger_count            int64\n",
       "trip_distance            float64\n",
       "RatecodeID                 int64\n",
       "PULocationID               int64\n",
       "DOLocationID               int64\n",
       "payment_type               int64\n",
       "total_amount             float64\n",
       "dtype: object"
      ]
     },
     "execution_count": 67,
     "metadata": {},
     "output_type": "execute_result"
    }
   ],
   "source": [
    "taxi_data_prepared.dtypes"
   ]
  },
  {
   "cell_type": "code",
   "execution_count": 74,
   "id": "6cdd6839",
   "metadata": {},
   "outputs": [],
   "source": [
    "taxi_data_prepared['tpep_pickup_datetime'] = pd.to_datetime(taxi_data_prepared['tpep_pickup_datetime'], errors='coerce')\n",
    "taxi_data_prepared['tpep_dropoff_datetime'] = pd.to_datetime(taxi_data_prepared['tpep_dropoff_datetime'], errors='coerce')"
   ]
  },
  {
   "cell_type": "code",
   "execution_count": 75,
   "id": "4a21db75",
   "metadata": {},
   "outputs": [],
   "source": [
    "taxi_data_prepared.loc[:,'RatecodeID'] = taxi_data_prepared['RatecodeID'].astype(str)\n",
    "taxi_data_prepared.loc[:,'PULocationID'] = taxi_data_prepared['PULocationID'].astype(str)\n",
    "taxi_data_prepared.loc[:,'DOLocationID'] = taxi_data_prepared['DOLocationID'].astype(str)\n",
    "taxi_data_prepared.loc[:,'payment_type'] = taxi_data_prepared['payment_type'].astype(str)"
   ]
  },
  {
   "cell_type": "code",
   "execution_count": 76,
   "id": "d6210ba6",
   "metadata": {},
   "outputs": [
    {
     "data": {
      "text/plain": [
       "tpep_pickup_datetime     datetime64[ns]\n",
       "tpep_dropoff_datetime    datetime64[ns]\n",
       "passenger_count                   int64\n",
       "trip_distance                   float64\n",
       "RatecodeID                       object\n",
       "PULocationID                     object\n",
       "DOLocationID                     object\n",
       "payment_type                     object\n",
       "total_amount                    float64\n",
       "dtype: object"
      ]
     },
     "execution_count": 76,
     "metadata": {},
     "output_type": "execute_result"
    }
   ],
   "source": [
    "taxi_data_prepared.dtypes"
   ]
  },
  {
   "cell_type": "code",
   "execution_count": 78,
   "id": "ab40adde",
   "metadata": {},
   "outputs": [],
   "source": [
    "taxi_data_prepared['transaction_date'] = pd.to_datetime(taxi_data_prepared['tpep_pickup_datetime'].dt.date)\n",
    "taxi_data_prepared['transaction_year'] = taxi_data_prepared['tpep_pickup_datetime'].dt.year\n",
    "taxi_data_prepared['transaction_month'] = taxi_data_prepared['tpep_pickup_datetime'].dt.month\n",
    "taxi_data_prepared['transaction_day'] = taxi_data_prepared['tpep_pickup_datetime'].dt.day\n",
    "taxi_data_prepared['transaction_hour'] = taxi_data_prepared['tpep_pickup_datetime'].dt.hour"
   ]
  },
  {
   "cell_type": "code",
   "execution_count": 79,
   "id": "ef01c98a",
   "metadata": {},
   "outputs": [
    {
     "data": {
      "text/html": [
       "<div>\n",
       "<style scoped>\n",
       "    .dataframe tbody tr th:only-of-type {\n",
       "        vertical-align: middle;\n",
       "    }\n",
       "\n",
       "    .dataframe tbody tr th {\n",
       "        vertical-align: top;\n",
       "    }\n",
       "\n",
       "    .dataframe thead th {\n",
       "        text-align: right;\n",
       "    }\n",
       "</style>\n",
       "<table border=\"1\" class=\"dataframe\">\n",
       "  <thead>\n",
       "    <tr style=\"text-align: right;\">\n",
       "      <th></th>\n",
       "      <th>tpep_pickup_datetime</th>\n",
       "      <th>tpep_dropoff_datetime</th>\n",
       "      <th>passenger_count</th>\n",
       "      <th>trip_distance</th>\n",
       "      <th>RatecodeID</th>\n",
       "      <th>PULocationID</th>\n",
       "      <th>DOLocationID</th>\n",
       "      <th>payment_type</th>\n",
       "      <th>total_amount</th>\n",
       "      <th>transaction_date</th>\n",
       "      <th>transaction_year</th>\n",
       "      <th>transaction_month</th>\n",
       "      <th>transaction_day</th>\n",
       "      <th>transaction_hour</th>\n",
       "    </tr>\n",
       "  </thead>\n",
       "  <tbody>\n",
       "    <tr>\n",
       "      <th>0</th>\n",
       "      <td>2024-01-01 00:57:55</td>\n",
       "      <td>2024-01-01 01:17:43</td>\n",
       "      <td>1</td>\n",
       "      <td>1.72</td>\n",
       "      <td>1</td>\n",
       "      <td>186</td>\n",
       "      <td>79</td>\n",
       "      <td>2</td>\n",
       "      <td>22.70</td>\n",
       "      <td>2024-01-01</td>\n",
       "      <td>2024</td>\n",
       "      <td>1</td>\n",
       "      <td>1</td>\n",
       "      <td>0</td>\n",
       "    </tr>\n",
       "    <tr>\n",
       "      <th>1</th>\n",
       "      <td>2024-01-01 00:03:00</td>\n",
       "      <td>2024-01-01 00:09:36</td>\n",
       "      <td>1</td>\n",
       "      <td>1.80</td>\n",
       "      <td>1</td>\n",
       "      <td>140</td>\n",
       "      <td>236</td>\n",
       "      <td>1</td>\n",
       "      <td>18.75</td>\n",
       "      <td>2024-01-01</td>\n",
       "      <td>2024</td>\n",
       "      <td>1</td>\n",
       "      <td>1</td>\n",
       "      <td>0</td>\n",
       "    </tr>\n",
       "    <tr>\n",
       "      <th>2</th>\n",
       "      <td>2024-01-01 00:17:06</td>\n",
       "      <td>2024-01-01 00:35:01</td>\n",
       "      <td>1</td>\n",
       "      <td>4.70</td>\n",
       "      <td>1</td>\n",
       "      <td>236</td>\n",
       "      <td>79</td>\n",
       "      <td>1</td>\n",
       "      <td>31.30</td>\n",
       "      <td>2024-01-01</td>\n",
       "      <td>2024</td>\n",
       "      <td>1</td>\n",
       "      <td>1</td>\n",
       "      <td>0</td>\n",
       "    </tr>\n",
       "    <tr>\n",
       "      <th>3</th>\n",
       "      <td>2024-01-01 00:36:38</td>\n",
       "      <td>2024-01-01 00:44:56</td>\n",
       "      <td>1</td>\n",
       "      <td>1.40</td>\n",
       "      <td>1</td>\n",
       "      <td>79</td>\n",
       "      <td>211</td>\n",
       "      <td>1</td>\n",
       "      <td>17.00</td>\n",
       "      <td>2024-01-01</td>\n",
       "      <td>2024</td>\n",
       "      <td>1</td>\n",
       "      <td>1</td>\n",
       "      <td>0</td>\n",
       "    </tr>\n",
       "    <tr>\n",
       "      <th>4</th>\n",
       "      <td>2024-01-01 00:46:51</td>\n",
       "      <td>2024-01-01 00:52:57</td>\n",
       "      <td>1</td>\n",
       "      <td>0.80</td>\n",
       "      <td>1</td>\n",
       "      <td>211</td>\n",
       "      <td>148</td>\n",
       "      <td>1</td>\n",
       "      <td>16.10</td>\n",
       "      <td>2024-01-01</td>\n",
       "      <td>2024</td>\n",
       "      <td>1</td>\n",
       "      <td>1</td>\n",
       "      <td>0</td>\n",
       "    </tr>\n",
       "  </tbody>\n",
       "</table>\n",
       "</div>"
      ],
      "text/plain": [
       "  tpep_pickup_datetime tpep_dropoff_datetime  passenger_count  trip_distance  \\\n",
       "0  2024-01-01 00:57:55   2024-01-01 01:17:43                1           1.72   \n",
       "1  2024-01-01 00:03:00   2024-01-01 00:09:36                1           1.80   \n",
       "2  2024-01-01 00:17:06   2024-01-01 00:35:01                1           4.70   \n",
       "3  2024-01-01 00:36:38   2024-01-01 00:44:56                1           1.40   \n",
       "4  2024-01-01 00:46:51   2024-01-01 00:52:57                1           0.80   \n",
       "\n",
       "  RatecodeID PULocationID DOLocationID payment_type  total_amount  \\\n",
       "0          1          186           79            2         22.70   \n",
       "1          1          140          236            1         18.75   \n",
       "2          1          236           79            1         31.30   \n",
       "3          1           79          211            1         17.00   \n",
       "4          1          211          148            1         16.10   \n",
       "\n",
       "  transaction_date  transaction_year  transaction_month  transaction_day  \\\n",
       "0       2024-01-01              2024                  1                1   \n",
       "1       2024-01-01              2024                  1                1   \n",
       "2       2024-01-01              2024                  1                1   \n",
       "3       2024-01-01              2024                  1                1   \n",
       "4       2024-01-01              2024                  1                1   \n",
       "\n",
       "   transaction_hour  \n",
       "0                 0  \n",
       "1                 0  \n",
       "2                 0  \n",
       "3                 0  \n",
       "4                 0  "
      ]
     },
     "execution_count": 79,
     "metadata": {},
     "output_type": "execute_result"
    }
   ],
   "source": [
    "taxi_data_prepared.head()"
   ]
  },
  {
   "cell_type": "code",
   "execution_count": 82,
   "id": "0a91f05b",
   "metadata": {},
   "outputs": [],
   "source": [
    "categorical_columns = ['PULocationID','transaction_date','transaction_month','transaction_day','transaction_hour']\n",
    "numerical_columns = ['trip_distance', 'total_amount']\n",
    "all_needed_columns = categorical_columns + numerical_columns"
   ]
  },
  {
   "cell_type": "code",
   "execution_count": 83,
   "id": "1367ea2c",
   "metadata": {},
   "outputs": [
    {
     "name": "stdout",
     "output_type": "stream",
     "text": [
      "(2786954, 7)\n"
     ]
    },
    {
     "data": {
      "text/html": [
       "<div>\n",
       "<style scoped>\n",
       "    .dataframe tbody tr th:only-of-type {\n",
       "        vertical-align: middle;\n",
       "    }\n",
       "\n",
       "    .dataframe tbody tr th {\n",
       "        vertical-align: top;\n",
       "    }\n",
       "\n",
       "    .dataframe thead th {\n",
       "        text-align: right;\n",
       "    }\n",
       "</style>\n",
       "<table border=\"1\" class=\"dataframe\">\n",
       "  <thead>\n",
       "    <tr style=\"text-align: right;\">\n",
       "      <th></th>\n",
       "      <th>PULocationID</th>\n",
       "      <th>transaction_date</th>\n",
       "      <th>transaction_month</th>\n",
       "      <th>transaction_day</th>\n",
       "      <th>transaction_hour</th>\n",
       "      <th>trip_distance</th>\n",
       "      <th>total_amount</th>\n",
       "    </tr>\n",
       "  </thead>\n",
       "  <tbody>\n",
       "    <tr>\n",
       "      <th>0</th>\n",
       "      <td>186</td>\n",
       "      <td>2024-01-01</td>\n",
       "      <td>1</td>\n",
       "      <td>1</td>\n",
       "      <td>0</td>\n",
       "      <td>1.72</td>\n",
       "      <td>22.70</td>\n",
       "    </tr>\n",
       "    <tr>\n",
       "      <th>1</th>\n",
       "      <td>140</td>\n",
       "      <td>2024-01-01</td>\n",
       "      <td>1</td>\n",
       "      <td>1</td>\n",
       "      <td>0</td>\n",
       "      <td>1.80</td>\n",
       "      <td>18.75</td>\n",
       "    </tr>\n",
       "    <tr>\n",
       "      <th>2</th>\n",
       "      <td>236</td>\n",
       "      <td>2024-01-01</td>\n",
       "      <td>1</td>\n",
       "      <td>1</td>\n",
       "      <td>0</td>\n",
       "      <td>4.70</td>\n",
       "      <td>31.30</td>\n",
       "    </tr>\n",
       "    <tr>\n",
       "      <th>3</th>\n",
       "      <td>79</td>\n",
       "      <td>2024-01-01</td>\n",
       "      <td>1</td>\n",
       "      <td>1</td>\n",
       "      <td>0</td>\n",
       "      <td>1.40</td>\n",
       "      <td>17.00</td>\n",
       "    </tr>\n",
       "    <tr>\n",
       "      <th>4</th>\n",
       "      <td>211</td>\n",
       "      <td>2024-01-01</td>\n",
       "      <td>1</td>\n",
       "      <td>1</td>\n",
       "      <td>0</td>\n",
       "      <td>0.80</td>\n",
       "      <td>16.10</td>\n",
       "    </tr>\n",
       "  </tbody>\n",
       "</table>\n",
       "</div>"
      ],
      "text/plain": [
       "  PULocationID transaction_date  transaction_month  transaction_day  \\\n",
       "0          186       2024-01-01                  1                1   \n",
       "1          140       2024-01-01                  1                1   \n",
       "2          236       2024-01-01                  1                1   \n",
       "3           79       2024-01-01                  1                1   \n",
       "4          211       2024-01-01                  1                1   \n",
       "\n",
       "   transaction_hour  trip_distance  total_amount  \n",
       "0                 0           1.72         22.70  \n",
       "1                 0           1.80         18.75  \n",
       "2                 0           4.70         31.30  \n",
       "3                 0           1.40         17.00  \n",
       "4                 0           0.80         16.10  "
      ]
     },
     "execution_count": 83,
     "metadata": {},
     "output_type": "execute_result"
    }
   ],
   "source": [
    "main_taxi_df = taxi_data_prepared[all_needed_columns]\n",
    "print(main_taxi_df.shape)\n",
    "main_taxi_df.head()"
   ]
  },
  {
   "cell_type": "code",
   "execution_count": 87,
   "id": "1fc9add5",
   "metadata": {},
   "outputs": [
    {
     "name": "stdout",
     "output_type": "stream",
     "text": [
      "(71954, 7)\n"
     ]
    },
    {
     "data": {
      "text/html": [
       "<div>\n",
       "<style scoped>\n",
       "    .dataframe tbody tr th:only-of-type {\n",
       "        vertical-align: middle;\n",
       "    }\n",
       "\n",
       "    .dataframe tbody tr th {\n",
       "        vertical-align: top;\n",
       "    }\n",
       "\n",
       "    .dataframe thead th {\n",
       "        text-align: right;\n",
       "    }\n",
       "</style>\n",
       "<table border=\"1\" class=\"dataframe\">\n",
       "  <thead>\n",
       "    <tr style=\"text-align: right;\">\n",
       "      <th></th>\n",
       "      <th>PULocationID</th>\n",
       "      <th>transaction_date</th>\n",
       "      <th>transaction_month</th>\n",
       "      <th>transaction_day</th>\n",
       "      <th>transaction_hour</th>\n",
       "      <th>total_amount</th>\n",
       "      <th>count_of_transactions</th>\n",
       "    </tr>\n",
       "  </thead>\n",
       "  <tbody>\n",
       "    <tr>\n",
       "      <th>0</th>\n",
       "      <td>1</td>\n",
       "      <td>2024-01-01</td>\n",
       "      <td>1</td>\n",
       "      <td>1</td>\n",
       "      <td>5</td>\n",
       "      <td>109.200000</td>\n",
       "      <td>1</td>\n",
       "    </tr>\n",
       "    <tr>\n",
       "      <th>1</th>\n",
       "      <td>1</td>\n",
       "      <td>2024-01-01</td>\n",
       "      <td>1</td>\n",
       "      <td>1</td>\n",
       "      <td>6</td>\n",
       "      <td>76.000000</td>\n",
       "      <td>3</td>\n",
       "    </tr>\n",
       "    <tr>\n",
       "      <th>2</th>\n",
       "      <td>1</td>\n",
       "      <td>2024-01-01</td>\n",
       "      <td>1</td>\n",
       "      <td>1</td>\n",
       "      <td>13</td>\n",
       "      <td>108.983333</td>\n",
       "      <td>3</td>\n",
       "    </tr>\n",
       "    <tr>\n",
       "      <th>3</th>\n",
       "      <td>1</td>\n",
       "      <td>2024-01-01</td>\n",
       "      <td>1</td>\n",
       "      <td>1</td>\n",
       "      <td>14</td>\n",
       "      <td>85.680000</td>\n",
       "      <td>6</td>\n",
       "    </tr>\n",
       "    <tr>\n",
       "      <th>4</th>\n",
       "      <td>1</td>\n",
       "      <td>2024-01-01</td>\n",
       "      <td>1</td>\n",
       "      <td>1</td>\n",
       "      <td>15</td>\n",
       "      <td>145.620000</td>\n",
       "      <td>2</td>\n",
       "    </tr>\n",
       "  </tbody>\n",
       "</table>\n",
       "</div>"
      ],
      "text/plain": [
       "  PULocationID transaction_date  transaction_month  transaction_day  \\\n",
       "0            1       2024-01-01                  1                1   \n",
       "1            1       2024-01-01                  1                1   \n",
       "2            1       2024-01-01                  1                1   \n",
       "3            1       2024-01-01                  1                1   \n",
       "4            1       2024-01-01                  1                1   \n",
       "\n",
       "   transaction_hour  total_amount  count_of_transactions  \n",
       "0                 5    109.200000                      1  \n",
       "1                 6     76.000000                      3  \n",
       "2                13    108.983333                      3  \n",
       "3                14     85.680000                      6  \n",
       "4                15    145.620000                      2  "
      ]
     },
     "execution_count": 87,
     "metadata": {},
     "output_type": "execute_result"
    }
   ],
   "source": [
    "taxi_grouped_by_region = main_taxi_df.groupby(categorical_columns).agg(\n",
    "    total_amount=('total_amount', 'mean'), \n",
    "    count_of_transactions=('total_amount', 'count')\n",
    ").reset_index()\n",
    "print(taxi_grouped_by_region.shape)\n",
    "taxi_grouped_by_region.head()"
   ]
  },
  {
   "cell_type": "code",
   "execution_count": 88,
   "id": "f17819e6",
   "metadata": {},
   "outputs": [
    {
     "data": {
      "text/plain": [
       "<Axes: >"
      ]
     },
     "execution_count": 88,
     "metadata": {},
     "output_type": "execute_result"
    },
    {
     "data": {
      "image/png": "[encoded data removed]",
      "text/plain": [
       "<Figure size 1000x500 with 1 Axes>"
      ]
     },
     "metadata": {},
     "output_type": "display_data"
    }
   ],
   "source": [
    "taxi_grouped_by_region['total_amount'].hist(bins=100, figsize=(10,5))"
   ]
  },
  {
   "cell_type": "code",
   "execution_count": null,
   "id": "9a47a2de",
   "metadata": {},
   "outputs": [],
   "source": []
  }
 ],
 "metadata": {
  "kernelspec": {
   "display_name": "Python 3 (ipykernel)",
   "language": "python",
   "name": "python3"
  },
  "language_info": {
   "codemirror_mode": {
    "name": "ipython",
    "version": 3
   },
   "file_extension": ".py",
   "mimetype": "text/x-python",
   "name": "python",
   "nbconvert_exporter": "python",
   "pygments_lexer": "ipython3",
   "version": "3.12.4"
  }
 },
 "nbformat": 4,
 "nbformat_minor": 5
}
