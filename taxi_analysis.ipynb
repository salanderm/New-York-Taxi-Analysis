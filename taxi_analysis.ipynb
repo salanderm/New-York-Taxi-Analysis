{
 "cells": [
  {
   "cell_type": "code",
   "execution_count": 1,
   "id": "5efbe1dc-8878-449b-8f72-8a36af0453dc",
   "metadata": {},
   "outputs": [],
   "source": [
    "import pandas as pd"
   ]
  },
  {
   "cell_type": "code",
   "execution_count": 9,
   "id": "0420410c-327b-4fdc-8330-4e5c9e264857",
   "metadata": {},
   "outputs": [
    {
     "name": "stderr",
     "output_type": "stream",
     "text": [
      "/var/folders/p3/5v5_pxbd3_787n9jly7_jq180000gn/T/ipykernel_7051/4069577035.py:1: DtypeWarning: Columns (6) have mixed types. Specify dtype option on import or set low_memory=False.\n",
      "  taxi_df = pd.read_csv('data/yellow_tripdata_2024-01.csv')\n"
     ]
    }
   ],
   "source": [
    "taxi_df = pd.read_csv('data/yellow_tripdata_2024-01.csv')"
   ]
  },
  {
   "cell_type": "code",
   "execution_count": null,
   "id": "5ef2d541-a745-42ef-8d6f-a140656ee1df",
   "metadata": {},
   "outputs": [],
   "source": [
    "taxi_df.head"
   ]
  }
 ],
 "metadata": {
  "kernelspec": {
   "display_name": "Python 3 (ipykernel)",
   "language": "python",
   "name": "python3"
  },
  "language_info": {
   "codemirror_mode": {
    "name": "ipython",
    "version": 3
   },
   "file_extension": ".py",
   "mimetype": "text/x-python",
   "name": "python",
   "nbconvert_exporter": "python",
   "pygments_lexer": "ipython3",
   "version": "3.12.4"
  }
 },
 "nbformat": 4,
 "nbformat_minor": 5
}
